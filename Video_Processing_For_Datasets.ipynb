{
  "nbformat": 4,
  "nbformat_minor": 0,
  "metadata": {
    "colab": {
      "provenance": []
    },
    "kernelspec": {
      "name": "python3",
      "display_name": "Python 3"
    },
    "language_info": {
      "name": "python"
    }
  },
  "cells": [
    {
      "cell_type": "code",
      "execution_count": 1,
      "metadata": {
        "colab": {
          "base_uri": "https://localhost:8080/"
        },
        "id": "d7qHMdsU45C7",
        "outputId": "68a53eeb-06d7-4b34-aa0d-45e33b5bc902"
      },
      "outputs": [
        {
          "output_type": "stream",
          "name": "stdout",
          "text": [
            "Mounted at /content/drive\n"
          ]
        }
      ],
      "source": [
        "from google.colab import drive\n",
        "drive.mount('/content/drive')"
      ]
    },
    {
      "cell_type": "code",
      "source": [
        "import os\n",
        "import cv2\n",
        "import matplotlib.pyplot as plt\n",
        "import numpy as np\n",
        "import pandas as pd"
      ],
      "metadata": {
        "id": "_vPRL6X35gcN"
      },
      "execution_count": 2,
      "outputs": []
    },
    {
      "cell_type": "code",
      "source": [
        "# Capture images from video files\n",
        "# This code capturing images at average every second\n",
        "\n",
        "dir = \"/content/drive/MyDrive/SEPIMEP/kaggle-videolar/videos\"\n",
        "images_dir = \"/content/drive/MyDrive/SEPIMEP/kaggle-videolar/images\"\n",
        "\n",
        "\n",
        "video_num = 1\n",
        "counter = 0\n",
        "step = 30 # Capture counter \n",
        "image_count = 0\n",
        "\n",
        "for video in os.listdir(dir):\n",
        "  path = os.path.join(dir,video)\n",
        "  video = cv2.VideoCapture(path)\n",
        "  print(video)\n",
        "  while video.isOpened():\n",
        "    rec, frame = video.read()\n",
        "    if (rec == True) and (counter % step == 0 ):\n",
        "      cv2.imwrite(os.path.join(images_dir, str(video_num) + \"_drone_\" + str(counter) + \".jpg\"), frame)\n",
        "      image_count += 1  \n",
        "      print(\"Saved \" + str(image_count) + \".image\") \n",
        "      counter += 1 \n",
        "    elif counter % step != 0:\n",
        "      counter += 1 \n",
        "      continue\n",
        "    else:\n",
        "      break\n",
        "    \n",
        "    \n",
        "  video_num += 1\n",
        "  counter = 0\n",
        "  image_count = 0"
      ],
      "metadata": {
        "colab": {
          "base_uri": "https://localhost:8080/"
        },
        "id": "7h-qE_ZQ5Ap_",
        "outputId": "7f916482-b018-4822-e98a-6572f7799b43"
      },
      "execution_count": 24,
      "outputs": [
        {
          "output_type": "stream",
          "name": "stdout",
          "text": [
            "< cv2.VideoCapture 0x7f09b3003eb0>\n",
            "Saved 1.image\n",
            "Saved 2.image\n",
            "Saved 3.image\n",
            "Saved 4.image\n",
            "Saved 5.image\n",
            "Saved 6.image\n",
            "Saved 7.image\n",
            "Saved 8.image\n",
            "Saved 9.image\n",
            "Saved 10.image\n",
            "Saved 11.image\n",
            "Saved 12.image\n",
            "Saved 13.image\n",
            "Saved 14.image\n",
            "Saved 15.image\n",
            "Saved 16.image\n",
            "Saved 17.image\n",
            "Saved 18.image\n",
            "Saved 19.image\n",
            "Saved 20.image\n",
            "< cv2.VideoCapture 0x7f09b3003870>\n",
            "Saved 1.image\n",
            "Saved 2.image\n",
            "Saved 3.image\n",
            "Saved 4.image\n",
            "Saved 5.image\n",
            "Saved 6.image\n",
            "Saved 7.image\n",
            "Saved 8.image\n",
            "Saved 9.image\n",
            "Saved 10.image\n",
            "Saved 11.image\n",
            "Saved 12.image\n",
            "Saved 13.image\n",
            "Saved 14.image\n",
            "Saved 15.image\n",
            "Saved 16.image\n",
            "Saved 17.image\n",
            "Saved 18.image\n",
            "Saved 19.image\n",
            "Saved 20.image\n",
            "Saved 21.image\n",
            "Saved 22.image\n",
            "Saved 23.image\n",
            "Saved 24.image\n",
            "Saved 25.image\n",
            "Saved 26.image\n",
            "Saved 27.image\n",
            "Saved 28.image\n",
            "Saved 29.image\n",
            "Saved 30.image\n",
            "Saved 31.image\n",
            "Saved 32.image\n",
            "Saved 33.image\n",
            "Saved 34.image\n",
            "Saved 35.image\n",
            "Saved 36.image\n",
            "Saved 37.image\n",
            "Saved 38.image\n",
            "Saved 39.image\n",
            "Saved 40.image\n",
            "Saved 41.image\n",
            "Saved 42.image\n",
            "Saved 43.image\n",
            "Saved 44.image\n"
          ]
        }
      ]
    },
    {
      "cell_type": "code",
      "source": [
        "# Cropping all images\n",
        "# First, you must check your cropping area, after that you can cropping your images with code in the comment line at the end.\n",
        "\n",
        "check_one = 0\n",
        "\n",
        "for image_name in os.listdir(images_dir):\n",
        "  path = os.path.join(images_dir, image_name)\n",
        "  \n",
        "  if check_one == 0:\n",
        "    image = cv2.imread(path)\n",
        "\n",
        "    # check cropping area \n",
        "    plt.imshow(image)\n",
        "    check_one = 1\n",
        "\n",
        "\n",
        "    # The image to be saved after cropping is assigned to the variable image_cropper\n",
        "    # image_cropped = image[ 100: 500, 100:500] # y:y_width + y , x:x+ x_width\n",
        "    # plt.imshow(image_cropped)\n",
        "    # cv2.imwrite(os.path.join(images_dir, \"cropped_\" + image_name ), image_cropped )"
      ],
      "metadata": {
        "colab": {
          "base_uri": "https://localhost:8080/",
          "height": 269
        },
        "id": "bgzgtbmI5ArZ",
        "outputId": "559a3925-3909-4a2e-d4a4-dcbec7e5b168"
      },
      "execution_count": 35,
      "outputs": [
        {
          "output_type": "display_data",
          "data": {
            "text/plain": [
              "<Figure size 432x288 with 1 Axes>"
            ],
            "image/png": "[encoded data removed]"
          },
          "metadata": {
            "needs_background": "light"
          }
        }
      ]
    },
    {
      "cell_type": "code",
      "source": [],
      "metadata": {
        "id": "-Vg6yAb45Aun"
      },
      "execution_count": null,
      "outputs": []
    },
    {
      "cell_type": "code",
      "source": [],
      "metadata": {
        "id": "PGshICoK5AvU"
      },
      "execution_count": null,
      "outputs": []
    },
    {
      "cell_type": "code",
      "source": [],
      "metadata": {
        "id": "j8mfJn5w5Azk"
      },
      "execution_count": null,
      "outputs": []
    },
    {
      "cell_type": "code",
      "source": [],
      "metadata": {
        "id": "8cuv_sxl5A0M"
      },
      "execution_count": null,
      "outputs": []
    },
    {
      "cell_type": "code",
      "source": [],
      "metadata": {
        "id": "PcKoOnhp5A5B"
      },
      "execution_count": null,
      "outputs": []
    }
  ]
}